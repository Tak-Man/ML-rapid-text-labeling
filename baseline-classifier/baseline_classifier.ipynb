{
 "cells": [
  {
   "cell_type": "markdown",
   "id": "unsigned-elimination",
   "metadata": {},
   "source": [
    "## Master of Applied Data Science\n",
    "### University of Michigan - School of Information\n",
    "### Capstone Project - Rapid Labeling of Text Corpus Using Information Retrieval Techniques\n",
    "### Fall 2021\n",
    "#### Team Members: Chloe Zhang, Michael Penrose, Carlo Tak"
   ]
  },
  {
   "cell_type": "markdown",
   "id": "packed-image",
   "metadata": {},
   "source": [
    "### Experiment Flow\n",
    "\n",
    "Class label > Count vectorizer > 100 features > PyCaret"
   ]
  },
  {
   "cell_type": "markdown",
   "id": "commercial-lotus",
   "metadata": {},
   "source": [
    "### Purpose\n",
    "\n",
    "This notebook investigates how well a classifier can predict the **event type (i.e. 'earthquake', 'fire', 'flood', 'hurricane)** of the Tweets in the [Disaster tweets dataset](https://crisisnlp.qcri.org/humaid_dataset.html#).\n",
    "\n",
    "This classifier is to be used as a baseline of classification performance. Two things are investigated:\n",
    "- Is it possible to build a reasonable 'good' classifier of these tweets at all\n",
    "- If it is possible to build a classifier how well does the classifier perform using all of the labels from the training data\n",
    "\n",
    "If it is possible to build a classifier using all of the labels in the training dataset then it should be possible to implement a method for rapidly labeling the corpus of texts in the dataset. Here we think of rapid labeling as any process that does not require the user to label each text in the corpus, one at a time.\n",
    "\n",
    "To measure the performance of the classifier we use a metric called the Area Under the Curve (AUC). This metric was used because we believe it is a good metric for the preliminary work in this project. If a specific goal emerges later that requires a different metric, then the appropriate metric can be used at that time. The consequence of false positives (texts classified as having a certain label, but are not that label) and false negatives should be considered. For example, a metric like precision can be used to minimize false positives. The AUC metric provides a value between zero and one, with a higher number indicating better classification performance. \n"
   ]
  },
  {
   "cell_type": "markdown",
   "id": "assisted-netherlands",
   "metadata": {},
   "source": [
    "### Summary\n",
    "\n",
    "The baseline classifier built using all the labels in the training dataset produced a classifier that had a fairly good AUC score for each of the 4 event type labels (i.e. earthquake, fire, flood, hurricane). All the AUC scores were above 0.98.\n",
    "\n",
    "A simple vectorization (of texts) approach was implemented because we wanted the baseline classifier to be a basic solution – our feeling was that more complex techniques could be implemented at a later stage. A [count vectorizer]( https://scikit-learn.org/stable/modules/generated/sklearn.feature_extraction.text.CountVectorizer.html) (with default settings) was used to convert the texts. The number of dimensions (features) was also reduced using feature selection ([SelectKBest]( https://scikit-learn.org/stable/modules/generated/sklearn.feature_selection.SelectKBest.html)). This was to improve computational times – fewer dimensions means that there are fewer data to process. Also, this was a simpler method to implement than other techniques like removing stopwords, adjusting parameters like ‘stop_words’, ‘ngram_range’, ‘max_df’, ‘min_df’, and ‘max_features’.  The complexity of the classifier could be adjusted if required, but this simple implementation produced good results.\n",
    "\n",
    "This notebook reduced the number of features to 100.\n",
    "\n",
    "The feature importances were extracted from the classifier, to see if they made sense. This sense check was important because we made several assumptions in building this classifier, that had to be validated. For example, when the text was vectorized we used a simple approach that just counted the individual words (tokens) – are more complex classifier might use bi-grams (two words per feature), this would have had the advantage of preserving features like ‘’.\n",
    "\n",
    "Examining the top features\n",
    " \n",
    "\n"
   ]
  },
  {
   "cell_type": "code",
   "execution_count": 1,
   "id": "laden-jones",
   "metadata": {},
   "outputs": [],
   "source": [
    "import dt_utilities as utils\n",
    "from datetime import datetime\n",
    "from sklearn.feature_extraction.text import TfidfVectorizer, CountVectorizer\n",
    "from sklearn.feature_selection import SelectKBest, chi2, f_classif\n",
    "from sklearn.pipeline import Pipeline\n",
    "import pandas as pd\n",
    "from scipy.sparse import coo_matrix, hstack\n",
    "import scipy.sparse\n",
    "import numpy as np\n",
    "from collections import Counter\n",
    "from sklearn.linear_model import RidgeClassifier\n",
    "from sklearn.naive_bayes import MultinomialNB\n",
    "from sklearn.svm import LinearSVC\n",
    "from sklearn.metrics import accuracy_score\n",
    "from sklearn.dummy import DummyClassifier"
   ]
  },
  {
   "cell_type": "code",
   "execution_count": 2,
   "id": "gentle-integral",
   "metadata": {},
   "outputs": [
    {
     "data": {
      "text/plain": [
       "'2021/10/02 19:15:10'"
      ]
     },
     "execution_count": 2,
     "metadata": {},
     "output_type": "execute_result"
    }
   ],
   "source": [
    "start_time = datetime.now()\n",
    "start_time.strftime(\"%Y/%m/%d %H:%M:%S\")"
   ]
  },
  {
   "cell_type": "markdown",
   "id": "finnish-nicholas",
   "metadata": {},
   "source": [
    "### Load the Data"
   ]
  },
  {
   "cell_type": "code",
   "execution_count": 3,
   "id": "shaped-sellers",
   "metadata": {},
   "outputs": [],
   "source": [
    "consolidated_disaster_tweet_data_df = \\\n",
    "    utils.get_consolidated_disaster_tweet_data(root_directory=\"..\\..\\data\\\\HumAID\\\\\",\n",
    "                                               event_type_directory=\"HumAID_data_event_type\",\n",
    "                                               events_set_directories=[\"HumAID_data_events_set1_47K\",\n",
    "                                                                       \"HumAID_data_events_set2_29K\"],\n",
    "                                               include_meta_data=True)"
   ]
  },
  {
   "cell_type": "code",
   "execution_count": 4,
   "id": "miniature-target",
   "metadata": {},
   "outputs": [
    {
     "data": {
      "text/html": [
       "<div>\n",
       "<style scoped>\n",
       "    .dataframe tbody tr th:only-of-type {\n",
       "        vertical-align: middle;\n",
       "    }\n",
       "\n",
       "    .dataframe tbody tr th {\n",
       "        vertical-align: top;\n",
       "    }\n",
       "\n",
       "    .dataframe thead th {\n",
       "        text-align: right;\n",
       "    }\n",
       "</style>\n",
       "<table border=\"1\" class=\"dataframe\">\n",
       "  <thead>\n",
       "    <tr style=\"text-align: right;\">\n",
       "      <th></th>\n",
       "      <th>tweet_id</th>\n",
       "      <th>class_label</th>\n",
       "      <th>event_type</th>\n",
       "      <th>data_type</th>\n",
       "      <th>tweet_text</th>\n",
       "    </tr>\n",
       "  </thead>\n",
       "  <tbody>\n",
       "    <tr>\n",
       "      <th>0</th>\n",
       "      <td>798262465234542592</td>\n",
       "      <td>sympathy_and_support</td>\n",
       "      <td>earthquake</td>\n",
       "      <td>dev</td>\n",
       "      <td>RT @MissEarth: New Zealand need our prayers af...</td>\n",
       "    </tr>\n",
       "    <tr>\n",
       "      <th>1</th>\n",
       "      <td>771464543796985856</td>\n",
       "      <td>caution_and_advice</td>\n",
       "      <td>earthquake</td>\n",
       "      <td>dev</td>\n",
       "      <td>@johnaglass65 @gordonluke Ah, woke up to a nig...</td>\n",
       "    </tr>\n",
       "    <tr>\n",
       "      <th>2</th>\n",
       "      <td>797835622471733248</td>\n",
       "      <td>requests_or_urgent_needs</td>\n",
       "      <td>earthquake</td>\n",
       "      <td>dev</td>\n",
       "      <td>RT @terremotocentro: #eqnz if you need a tool ...</td>\n",
       "    </tr>\n",
       "    <tr>\n",
       "      <th>3</th>\n",
       "      <td>798021801540321280</td>\n",
       "      <td>other_relevant_information</td>\n",
       "      <td>earthquake</td>\n",
       "      <td>dev</td>\n",
       "      <td>RT @BarristerNZ: My son (4) has drawn a pictur...</td>\n",
       "    </tr>\n",
       "    <tr>\n",
       "      <th>4</th>\n",
       "      <td>798727277794033664</td>\n",
       "      <td>infrastructure_and_utility_damage</td>\n",
       "      <td>earthquake</td>\n",
       "      <td>dev</td>\n",
       "      <td>Due to earthquake damage our Defence Force is ...</td>\n",
       "    </tr>\n",
       "  </tbody>\n",
       "</table>\n",
       "</div>"
      ],
      "text/plain": [
       "             tweet_id                        class_label  event_type  \\\n",
       "0  798262465234542592               sympathy_and_support  earthquake   \n",
       "1  771464543796985856                 caution_and_advice  earthquake   \n",
       "2  797835622471733248           requests_or_urgent_needs  earthquake   \n",
       "3  798021801540321280         other_relevant_information  earthquake   \n",
       "4  798727277794033664  infrastructure_and_utility_damage  earthquake   \n",
       "\n",
       "  data_type                                         tweet_text  \n",
       "0       dev  RT @MissEarth: New Zealand need our prayers af...  \n",
       "1       dev  @johnaglass65 @gordonluke Ah, woke up to a nig...  \n",
       "2       dev  RT @terremotocentro: #eqnz if you need a tool ...  \n",
       "3       dev  RT @BarristerNZ: My son (4) has drawn a pictur...  \n",
       "4       dev  Due to earthquake damage our Defence Force is ...  "
      ]
     },
     "execution_count": 4,
     "metadata": {},
     "output_type": "execute_result"
    }
   ],
   "source": [
    "consolidated_disaster_tweet_data_df.head()"
   ]
  },
  {
   "cell_type": "code",
   "execution_count": 5,
   "id": "chemical-anxiety",
   "metadata": {},
   "outputs": [
    {
     "data": {
      "text/html": [
       "<div>\n",
       "<style scoped>\n",
       "    .dataframe tbody tr th:only-of-type {\n",
       "        vertical-align: middle;\n",
       "    }\n",
       "\n",
       "    .dataframe tbody tr th {\n",
       "        vertical-align: top;\n",
       "    }\n",
       "\n",
       "    .dataframe thead th {\n",
       "        text-align: right;\n",
       "    }\n",
       "</style>\n",
       "<table border=\"1\" class=\"dataframe\">\n",
       "  <thead>\n",
       "    <tr style=\"text-align: right;\">\n",
       "      <th></th>\n",
       "      <th>tweet_id</th>\n",
       "      <th>class_label</th>\n",
       "      <th>event_type</th>\n",
       "      <th>data_type</th>\n",
       "      <th>tweet_text</th>\n",
       "    </tr>\n",
       "  </thead>\n",
       "  <tbody>\n",
       "    <tr>\n",
       "      <th>0</th>\n",
       "      <td>798064896545996801</td>\n",
       "      <td>other_relevant_information</td>\n",
       "      <td>earthquake</td>\n",
       "      <td>train</td>\n",
       "      <td>I feel a little uneasy about the idea of work ...</td>\n",
       "    </tr>\n",
       "    <tr>\n",
       "      <th>1</th>\n",
       "      <td>797913886527602688</td>\n",
       "      <td>caution_and_advice</td>\n",
       "      <td>earthquake</td>\n",
       "      <td>train</td>\n",
       "      <td>#eqnz Interislander ferry docking aborted afte...</td>\n",
       "    </tr>\n",
       "    <tr>\n",
       "      <th>2</th>\n",
       "      <td>797867944546025472</td>\n",
       "      <td>other_relevant_information</td>\n",
       "      <td>earthquake</td>\n",
       "      <td>train</td>\n",
       "      <td>Much of New Zealand felt the earthquake after ...</td>\n",
       "    </tr>\n",
       "    <tr>\n",
       "      <th>3</th>\n",
       "      <td>797958935126773760</td>\n",
       "      <td>sympathy_and_support</td>\n",
       "      <td>earthquake</td>\n",
       "      <td>train</td>\n",
       "      <td>Noticing a lot of aftershocks on eqnz site, bu...</td>\n",
       "    </tr>\n",
       "    <tr>\n",
       "      <th>4</th>\n",
       "      <td>797813020567056386</td>\n",
       "      <td>infrastructure_and_utility_damage</td>\n",
       "      <td>earthquake</td>\n",
       "      <td>train</td>\n",
       "      <td>RT @E2NZ: Mike Clements, NZ police, says obvio...</td>\n",
       "    </tr>\n",
       "  </tbody>\n",
       "</table>\n",
       "</div>"
      ],
      "text/plain": [
       "             tweet_id                        class_label  event_type  \\\n",
       "0  798064896545996801         other_relevant_information  earthquake   \n",
       "1  797913886527602688                 caution_and_advice  earthquake   \n",
       "2  797867944546025472         other_relevant_information  earthquake   \n",
       "3  797958935126773760               sympathy_and_support  earthquake   \n",
       "4  797813020567056386  infrastructure_and_utility_damage  earthquake   \n",
       "\n",
       "  data_type                                         tweet_text  \n",
       "0     train  I feel a little uneasy about the idea of work ...  \n",
       "1     train  #eqnz Interislander ferry docking aborted afte...  \n",
       "2     train  Much of New Zealand felt the earthquake after ...  \n",
       "3     train  Noticing a lot of aftershocks on eqnz site, bu...  \n",
       "4     train  RT @E2NZ: Mike Clements, NZ police, says obvio...  "
      ]
     },
     "execution_count": 5,
     "metadata": {},
     "output_type": "execute_result"
    }
   ],
   "source": [
    "train_df = consolidated_disaster_tweet_data_df[consolidated_disaster_tweet_data_df[\"data_type\"]==\"train\"].reset_index(drop=True)\n",
    "train_df.head()"
   ]
  },
  {
   "cell_type": "code",
   "execution_count": 6,
   "id": "joined-davis",
   "metadata": {},
   "outputs": [
    {
     "data": {
      "text/html": [
       "<div>\n",
       "<style scoped>\n",
       "    .dataframe tbody tr th:only-of-type {\n",
       "        vertical-align: middle;\n",
       "    }\n",
       "\n",
       "    .dataframe tbody tr th {\n",
       "        vertical-align: top;\n",
       "    }\n",
       "\n",
       "    .dataframe thead th {\n",
       "        text-align: right;\n",
       "    }\n",
       "</style>\n",
       "<table border=\"1\" class=\"dataframe\">\n",
       "  <thead>\n",
       "    <tr style=\"text-align: right;\">\n",
       "      <th></th>\n",
       "      <th>tweet_id</th>\n",
       "      <th>class_label</th>\n",
       "      <th>event_type</th>\n",
       "      <th>data_type</th>\n",
       "      <th>tweet_text</th>\n",
       "    </tr>\n",
       "  </thead>\n",
       "  <tbody>\n",
       "    <tr>\n",
       "      <th>0</th>\n",
       "      <td>798274825441538048</td>\n",
       "      <td>infrastructure_and_utility_damage</td>\n",
       "      <td>earthquake</td>\n",
       "      <td>test</td>\n",
       "      <td>The earthquake in New Zealand was massive. Bil...</td>\n",
       "    </tr>\n",
       "    <tr>\n",
       "      <th>1</th>\n",
       "      <td>798452064208568320</td>\n",
       "      <td>infrastructure_and_utility_damage</td>\n",
       "      <td>earthquake</td>\n",
       "      <td>test</td>\n",
       "      <td>These pictures show the alarming extent of the...</td>\n",
       "    </tr>\n",
       "    <tr>\n",
       "      <th>2</th>\n",
       "      <td>797804396767682560</td>\n",
       "      <td>sympathy_and_support</td>\n",
       "      <td>earthquake</td>\n",
       "      <td>test</td>\n",
       "      <td>Just woke to news of another earthquake! WTF N...</td>\n",
       "    </tr>\n",
       "    <tr>\n",
       "      <th>3</th>\n",
       "      <td>798434862830993408</td>\n",
       "      <td>not_humanitarian</td>\n",
       "      <td>earthquake</td>\n",
       "      <td>test</td>\n",
       "      <td>When theres an actual earthquake, landslide an...</td>\n",
       "    </tr>\n",
       "    <tr>\n",
       "      <th>4</th>\n",
       "      <td>797790705414377472</td>\n",
       "      <td>caution_and_advice</td>\n",
       "      <td>earthquake</td>\n",
       "      <td>test</td>\n",
       "      <td>Tsunami warning for entire East Coast of NZ, b...</td>\n",
       "    </tr>\n",
       "  </tbody>\n",
       "</table>\n",
       "</div>"
      ],
      "text/plain": [
       "             tweet_id                        class_label  event_type  \\\n",
       "0  798274825441538048  infrastructure_and_utility_damage  earthquake   \n",
       "1  798452064208568320  infrastructure_and_utility_damage  earthquake   \n",
       "2  797804396767682560               sympathy_and_support  earthquake   \n",
       "3  798434862830993408                   not_humanitarian  earthquake   \n",
       "4  797790705414377472                 caution_and_advice  earthquake   \n",
       "\n",
       "  data_type                                         tweet_text  \n",
       "0      test  The earthquake in New Zealand was massive. Bil...  \n",
       "1      test  These pictures show the alarming extent of the...  \n",
       "2      test  Just woke to news of another earthquake! WTF N...  \n",
       "3      test  When theres an actual earthquake, landslide an...  \n",
       "4      test  Tsunami warning for entire East Coast of NZ, b...  "
      ]
     },
     "execution_count": 6,
     "metadata": {},
     "output_type": "execute_result"
    }
   ],
   "source": [
    "test_df = consolidated_disaster_tweet_data_df[consolidated_disaster_tweet_data_df[\"data_type\"]==\"test\"].reset_index(drop=True)\n",
    "test_df.head()"
   ]
  },
  {
   "cell_type": "code",
   "execution_count": 7,
   "id": "animal-notion",
   "metadata": {},
   "outputs": [
    {
     "data": {
      "text/html": [
       "<div>\n",
       "<style scoped>\n",
       "    .dataframe tbody tr th:only-of-type {\n",
       "        vertical-align: middle;\n",
       "    }\n",
       "\n",
       "    .dataframe tbody tr th {\n",
       "        vertical-align: top;\n",
       "    }\n",
       "\n",
       "    .dataframe thead th {\n",
       "        text-align: right;\n",
       "    }\n",
       "</style>\n",
       "<table border=\"1\" class=\"dataframe\">\n",
       "  <thead>\n",
       "    <tr style=\"text-align: right;\">\n",
       "      <th></th>\n",
       "      <th>tweet_id</th>\n",
       "      <th>class_label</th>\n",
       "      <th>event_type</th>\n",
       "      <th>data_type</th>\n",
       "      <th>tweet_text</th>\n",
       "    </tr>\n",
       "  </thead>\n",
       "  <tbody>\n",
       "    <tr>\n",
       "      <th>0</th>\n",
       "      <td>798262465234542592</td>\n",
       "      <td>sympathy_and_support</td>\n",
       "      <td>earthquake</td>\n",
       "      <td>dev</td>\n",
       "      <td>RT @MissEarth: New Zealand need our prayers af...</td>\n",
       "    </tr>\n",
       "    <tr>\n",
       "      <th>1</th>\n",
       "      <td>771464543796985856</td>\n",
       "      <td>caution_and_advice</td>\n",
       "      <td>earthquake</td>\n",
       "      <td>dev</td>\n",
       "      <td>@johnaglass65 @gordonluke Ah, woke up to a nig...</td>\n",
       "    </tr>\n",
       "    <tr>\n",
       "      <th>2</th>\n",
       "      <td>797835622471733248</td>\n",
       "      <td>requests_or_urgent_needs</td>\n",
       "      <td>earthquake</td>\n",
       "      <td>dev</td>\n",
       "      <td>RT @terremotocentro: #eqnz if you need a tool ...</td>\n",
       "    </tr>\n",
       "    <tr>\n",
       "      <th>3</th>\n",
       "      <td>798021801540321280</td>\n",
       "      <td>other_relevant_information</td>\n",
       "      <td>earthquake</td>\n",
       "      <td>dev</td>\n",
       "      <td>RT @BarristerNZ: My son (4) has drawn a pictur...</td>\n",
       "    </tr>\n",
       "    <tr>\n",
       "      <th>4</th>\n",
       "      <td>798727277794033664</td>\n",
       "      <td>infrastructure_and_utility_damage</td>\n",
       "      <td>earthquake</td>\n",
       "      <td>dev</td>\n",
       "      <td>Due to earthquake damage our Defence Force is ...</td>\n",
       "    </tr>\n",
       "  </tbody>\n",
       "</table>\n",
       "</div>"
      ],
      "text/plain": [
       "             tweet_id                        class_label  event_type  \\\n",
       "0  798262465234542592               sympathy_and_support  earthquake   \n",
       "1  771464543796985856                 caution_and_advice  earthquake   \n",
       "2  797835622471733248           requests_or_urgent_needs  earthquake   \n",
       "3  798021801540321280         other_relevant_information  earthquake   \n",
       "4  798727277794033664  infrastructure_and_utility_damage  earthquake   \n",
       "\n",
       "  data_type                                         tweet_text  \n",
       "0       dev  RT @MissEarth: New Zealand need our prayers af...  \n",
       "1       dev  @johnaglass65 @gordonluke Ah, woke up to a nig...  \n",
       "2       dev  RT @terremotocentro: #eqnz if you need a tool ...  \n",
       "3       dev  RT @BarristerNZ: My son (4) has drawn a pictur...  \n",
       "4       dev  Due to earthquake damage our Defence Force is ...  "
      ]
     },
     "execution_count": 7,
     "metadata": {},
     "output_type": "execute_result"
    }
   ],
   "source": [
    "dev_df = consolidated_disaster_tweet_data_df[consolidated_disaster_tweet_data_df[\"data_type\"]==\"dev\"].reset_index(drop=True)\n",
    "dev_df.head()"
   ]
  },
  {
   "cell_type": "code",
   "execution_count": 8,
   "id": "earned-nature",
   "metadata": {},
   "outputs": [
    {
     "data": {
      "text/html": [
       "<div>\n",
       "<style scoped>\n",
       "    .dataframe tbody tr th:only-of-type {\n",
       "        vertical-align: middle;\n",
       "    }\n",
       "\n",
       "    .dataframe tbody tr th {\n",
       "        vertical-align: top;\n",
       "    }\n",
       "\n",
       "    .dataframe thead th {\n",
       "        text-align: right;\n",
       "    }\n",
       "</style>\n",
       "<table border=\"1\" class=\"dataframe\">\n",
       "  <thead>\n",
       "    <tr style=\"text-align: right;\">\n",
       "      <th></th>\n",
       "      <th>event_type</th>\n",
       "      <th>Count</th>\n",
       "    </tr>\n",
       "  </thead>\n",
       "  <tbody>\n",
       "    <tr>\n",
       "      <th>3</th>\n",
       "      <td>hurricane</td>\n",
       "      <td>31674</td>\n",
       "    </tr>\n",
       "    <tr>\n",
       "      <th>2</th>\n",
       "      <td>flood</td>\n",
       "      <td>7815</td>\n",
       "    </tr>\n",
       "    <tr>\n",
       "      <th>1</th>\n",
       "      <td>fire</td>\n",
       "      <td>7792</td>\n",
       "    </tr>\n",
       "    <tr>\n",
       "      <th>0</th>\n",
       "      <td>earthquake</td>\n",
       "      <td>6250</td>\n",
       "    </tr>\n",
       "  </tbody>\n",
       "</table>\n",
       "</div>"
      ],
      "text/plain": [
       "   event_type  Count\n",
       "3   hurricane  31674\n",
       "2       flood   7815\n",
       "1        fire   7792\n",
       "0  earthquake   6250"
      ]
     },
     "execution_count": 8,
     "metadata": {},
     "output_type": "execute_result"
    }
   ],
   "source": [
    "train_df.groupby([\"event_type\"]).size().reset_index().rename(columns={0: \"Count\"}).sort_values(\"Count\", ascending=False)"
   ]
  },
  {
   "cell_type": "code",
   "execution_count": 9,
   "id": "continental-virginia",
   "metadata": {},
   "outputs": [
    {
     "data": {
      "text/html": [
       "<div>\n",
       "<style scoped>\n",
       "    .dataframe tbody tr th:only-of-type {\n",
       "        vertical-align: middle;\n",
       "    }\n",
       "\n",
       "    .dataframe tbody tr th {\n",
       "        vertical-align: top;\n",
       "    }\n",
       "\n",
       "    .dataframe thead th {\n",
       "        text-align: right;\n",
       "    }\n",
       "</style>\n",
       "<table border=\"1\" class=\"dataframe\">\n",
       "  <thead>\n",
       "    <tr style=\"text-align: right;\">\n",
       "      <th></th>\n",
       "      <th>class_label</th>\n",
       "      <th>Count</th>\n",
       "    </tr>\n",
       "  </thead>\n",
       "  <tbody>\n",
       "    <tr>\n",
       "      <th>8</th>\n",
       "      <td>rescue_volunteering_or_donation_effort</td>\n",
       "      <td>14891</td>\n",
       "    </tr>\n",
       "    <tr>\n",
       "      <th>6</th>\n",
       "      <td>other_relevant_information</td>\n",
       "      <td>8501</td>\n",
       "    </tr>\n",
       "    <tr>\n",
       "      <th>9</th>\n",
       "      <td>sympathy_and_support</td>\n",
       "      <td>6250</td>\n",
       "    </tr>\n",
       "    <tr>\n",
       "      <th>2</th>\n",
       "      <td>infrastructure_and_utility_damage</td>\n",
       "      <td>5715</td>\n",
       "    </tr>\n",
       "    <tr>\n",
       "      <th>3</th>\n",
       "      <td>injured_or_dead_people</td>\n",
       "      <td>5110</td>\n",
       "    </tr>\n",
       "    <tr>\n",
       "      <th>5</th>\n",
       "      <td>not_humanitarian</td>\n",
       "      <td>4407</td>\n",
       "    </tr>\n",
       "    <tr>\n",
       "      <th>0</th>\n",
       "      <td>caution_and_advice</td>\n",
       "      <td>3774</td>\n",
       "    </tr>\n",
       "    <tr>\n",
       "      <th>1</th>\n",
       "      <td>displaced_people_and_evacuations</td>\n",
       "      <td>2800</td>\n",
       "    </tr>\n",
       "    <tr>\n",
       "      <th>7</th>\n",
       "      <td>requests_or_urgent_needs</td>\n",
       "      <td>1833</td>\n",
       "    </tr>\n",
       "    <tr>\n",
       "      <th>4</th>\n",
       "      <td>missing_or_found_people</td>\n",
       "      <td>250</td>\n",
       "    </tr>\n",
       "  </tbody>\n",
       "</table>\n",
       "</div>"
      ],
      "text/plain": [
       "                              class_label  Count\n",
       "8  rescue_volunteering_or_donation_effort  14891\n",
       "6              other_relevant_information   8501\n",
       "9                    sympathy_and_support   6250\n",
       "2       infrastructure_and_utility_damage   5715\n",
       "3                  injured_or_dead_people   5110\n",
       "5                        not_humanitarian   4407\n",
       "0                      caution_and_advice   3774\n",
       "1        displaced_people_and_evacuations   2800\n",
       "7                requests_or_urgent_needs   1833\n",
       "4                 missing_or_found_people    250"
      ]
     },
     "execution_count": 9,
     "metadata": {},
     "output_type": "execute_result"
    }
   ],
   "source": [
    "train_df.groupby([\"class_label\"]).size().reset_index().rename(columns={0: \"Count\"}).sort_values(\"Count\", ascending=False)"
   ]
  },
  {
   "cell_type": "markdown",
   "id": "vanilla-certification",
   "metadata": {},
   "source": [
    "### Now Prepare for Modeling"
   ]
  },
  {
   "cell_type": "code",
   "execution_count": 10,
   "id": "posted-notebook",
   "metadata": {},
   "outputs": [
    {
     "name": "stdout",
     "output_type": "stream",
     "text": [
      "Full Training Records: 53531\n"
     ]
    }
   ],
   "source": [
    "print(\"Full Training Records:\", len(train_df))"
   ]
  },
  {
   "cell_type": "code",
   "execution_count": 11,
   "id": "relative-banana",
   "metadata": {},
   "outputs": [],
   "source": [
    "# use this cell to reduce the train set to simulate a rapid labelling semi-supervised situation\n",
    "#train_df = train_df.sample(frac=0.01, replace=False, random_state=1)\n",
    "#print(\"Training Records:\", len(train_df))"
   ]
  },
  {
   "cell_type": "code",
   "execution_count": 12,
   "id": "alive-graham",
   "metadata": {},
   "outputs": [],
   "source": [
    "num_features = 'all'\n",
    "target_column = \"class_label\"\n",
    "# vectorizer = TfidfVectorizer(max_features=num_features)\n",
    "# count_vectorizer = CountVectorizer(max_features=num_features)\n",
    "\n",
    "vectorizer = Pipeline([\n",
    "    (\"vectorizer\", TfidfVectorizer(stop_words='english', ngram_range=(1,2))),\n",
    "])"
   ]
  },
  {
   "cell_type": "code",
   "execution_count": 13,
   "id": "contemporary-foster",
   "metadata": {},
   "outputs": [
    {
     "name": "stdout",
     "output_type": "stream",
     "text": [
      "Wall time: 3.87 s\n"
     ]
    },
    {
     "data": {
      "text/plain": [
       "Pipeline(steps=[('vectorizer',\n",
       "                 TfidfVectorizer(ngram_range=(1, 2), stop_words='english'))])"
      ]
     },
     "execution_count": 13,
     "metadata": {},
     "output_type": "execute_result"
    }
   ],
   "source": [
    "%%time\n",
    "vectorizer.fit(train_df[\"tweet_text\"], train_df[target_column])"
   ]
  },
  {
   "cell_type": "code",
   "execution_count": 14,
   "id": "divided-assets",
   "metadata": {},
   "outputs": [
    {
     "name": "stdout",
     "output_type": "stream",
     "text": [
      "Wall time: 2.93 s\n"
     ]
    }
   ],
   "source": [
    "%%time\n",
    "X_train = vectorizer.transform(train_df[\"tweet_text\"])\n",
    "X_test = vectorizer.transform(test_df[\"tweet_text\"])"
   ]
  },
  {
   "cell_type": "markdown",
   "id": "hundred-south",
   "metadata": {},
   "source": [
    "### Build a Simple Baseline Model"
   ]
  },
  {
   "cell_type": "code",
   "execution_count": 15,
   "id": "unnecessary-color",
   "metadata": {},
   "outputs": [],
   "source": [
    "y = train_df['class_label']\n",
    "y_test = test_df['class_label']\n",
    "model = LinearSVC() #MultinomialNB() #RidgeClassifier()\n",
    "dummy_model = DummyClassifier(strategy=\"stratified\", random_state=2021)"
   ]
  },
  {
   "cell_type": "code",
   "execution_count": 16,
   "id": "vietnamese-hacker",
   "metadata": {},
   "outputs": [
    {
     "name": "stdout",
     "output_type": "stream",
     "text": [
      "Wall time: 87 ms\n"
     ]
    }
   ],
   "source": [
    "%%time\n",
    "dummy_model.fit(X_train, y)\n",
    "y_train_pred_dummy = dummy_model.predict(X_train)\n",
    "y_test_pred_dummy = dummy_model.predict(X_test)"
   ]
  },
  {
   "cell_type": "code",
   "execution_count": 17,
   "id": "minute-banks",
   "metadata": {},
   "outputs": [
    {
     "name": "stdout",
     "output_type": "stream",
     "text": [
      "Wall time: 4.43 s\n"
     ]
    }
   ],
   "source": [
    "%%time\n",
    "model.fit(X_train, y)\n",
    "y_train_pred = model.predict(X_train)\n",
    "y_test_pred = model.predict(X_test)"
   ]
  },
  {
   "cell_type": "markdown",
   "id": "conventional-logan",
   "metadata": {},
   "source": [
    "### Calculate Accuracy\n",
    "We'll look at accuracy of dummy classifiers and see the improvement that the Naive Bayes model adds."
   ]
  },
  {
   "cell_type": "code",
   "execution_count": 18,
   "id": "moderate-surrey",
   "metadata": {},
   "outputs": [
    {
     "name": "stdout",
     "output_type": "stream",
     "text": [
      "Dummy train score: 0.153\n",
      "Baseline train score: 0.999\n",
      "Dummy test score: 0.155\n",
      "Baseline test score: 0.741\n"
     ]
    }
   ],
   "source": [
    "print(\"Dummy train score:\",round(accuracy_score(y, y_train_pred_dummy),3))\n",
    "print(\"Baseline train score:\",round(accuracy_score(y, y_train_pred),3))\n",
    "print(\"Dummy test score:\",round(accuracy_score(y_test, y_test_pred_dummy),3))\n",
    "print(\"Baseline test score:\",round(accuracy_score(y_test, y_test_pred),3))"
   ]
  },
  {
   "cell_type": "code",
   "execution_count": 19,
   "id": "liberal-vault",
   "metadata": {},
   "outputs": [
    {
     "data": {
      "text/plain": [
       "'2021/10/02 19:15:24'"
      ]
     },
     "execution_count": 19,
     "metadata": {},
     "output_type": "execute_result"
    }
   ],
   "source": [
    "end_time = datetime.now()\n",
    "end_time.strftime(\"%Y/%m/%d %H:%M:%S\")"
   ]
  },
  {
   "cell_type": "code",
   "execution_count": 20,
   "id": "characteristic-solomon",
   "metadata": {},
   "outputs": [
    {
     "name": "stdout",
     "output_type": "stream",
     "text": [
      "duration : 0:00:13.273998\n"
     ]
    }
   ],
   "source": [
    "duration = end_time - start_time\n",
    "print(\"duration :\", duration)"
   ]
  },
  {
   "cell_type": "code",
   "execution_count": null,
   "id": "located-johnston",
   "metadata": {},
   "outputs": [],
   "source": []
  }
 ],
 "metadata": {
  "kernelspec": {
   "display_name": "Python 3",
   "language": "python",
   "name": "python3"
  },
  "language_info": {
   "codemirror_mode": {
    "name": "ipython",
    "version": 3
   },
   "file_extension": ".py",
   "mimetype": "text/x-python",
   "name": "python",
   "nbconvert_exporter": "python",
   "pygments_lexer": "ipython3",
   "version": "3.7.10"
  }
 },
 "nbformat": 4,
 "nbformat_minor": 5
}
